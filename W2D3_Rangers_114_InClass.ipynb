{
 "cells": [
  {
   "cell_type": "markdown",
   "metadata": {},
   "source": [
    "# Dictionaries & Sets"
   ]
  },
  {
   "cell_type": "markdown",
   "metadata": {},
   "source": [
    "## Tasks Today:\n",
    "\n",
    "1) Dictionary <br>\n",
    " &nbsp;&nbsp;&nbsp;&nbsp; a) Declaring (key, value) <br>\n",
    " &nbsp;&nbsp;&nbsp;&nbsp; b) Accessing Values <br>\n",
    " &nbsp;&nbsp;&nbsp;&nbsp; ------ Exercise #1 - Print the eye color of each person in a double nested dict <br>\n",
    " &nbsp;&nbsp;&nbsp;&nbsp; c) Adding New Pairs <br>\n",
    " &nbsp;&nbsp;&nbsp;&nbsp; d) Modifying Values <br>\n",
    " &nbsp;&nbsp;&nbsp;&nbsp; e) Removing Key, Value Pairs <br>\n",
    " &nbsp;&nbsp;&nbsp;&nbsp; f) Looping a Dictionary <br>\n",
    " &nbsp;&nbsp;&nbsp;&nbsp; g) Looping Only Keys <br>\n",
    " &nbsp;&nbsp;&nbsp;&nbsp; h) Looping Only Values <br>\n",
    " &nbsp;&nbsp;&nbsp;&nbsp; ------ Exercise #2 - Create a program\n",
    " that Prints All Key Value Pairs within a print .format()  <br>\n",
    " &nbsp;&nbsp;&nbsp;&nbsp; i) sorted() <br>\n",
    " &nbsp;&nbsp;&nbsp;&nbsp; j) Lists with Dictionaries <br>\n",
    " &nbsp;&nbsp;&nbsp;&nbsp; k) Dictionaries with Lists <br>\n",
    " &nbsp;&nbsp;&nbsp;&nbsp; l) Dictionaries with Dictionaries <br>\n",
    " &nbsp;&nbsp;&nbsp;&nbsp; ------ Exercise #3 - Write a Function that asks someone's name and address, and then stores that into a dictionary, which prints all names and addresses after they're done putting information in...  <br>\n",
    "2) Dictionaries vs. Lists (over time)<br>\n",
    "3) Set <br>\n",
    " &nbsp;&nbsp;&nbsp;&nbsp; a) Declaring <br>\n",
    " &nbsp;&nbsp;&nbsp;&nbsp; b) .add() <br>\n",
    " &nbsp;&nbsp;&nbsp;&nbsp; c) .remove() <br>\n",
    " &nbsp;&nbsp;&nbsp;&nbsp; d) .union() <br>\n",
    " &nbsp;&nbsp;&nbsp;&nbsp; e) .intersection() <br>\n",
    " &nbsp;&nbsp;&nbsp;&nbsp; f) .difference() <br>\n",
    " &nbsp;&nbsp;&nbsp;&nbsp; g) Frozen Set <br>\n",
    "4) Modules <br>\n",
    " &nbsp;&nbsp;&nbsp;&nbsp; a) Importing Entire Modules <br>\n",
    " &nbsp;&nbsp;&nbsp;&nbsp; b) Importing Methods Only <br>\n",
    " &nbsp;&nbsp;&nbsp;&nbsp; c) Using the 'as' Keyword <br>\n",
    " &nbsp;&nbsp;&nbsp;&nbsp; d) Creating a Module <br>\n",
    "5) Exercises <br>\n",
    " &nbsp;&nbsp;&nbsp;&nbsp; a) Build a Shopping Cart <br>\n",
    " &nbsp;&nbsp;&nbsp;&nbsp; b) Create Your Own Module <br>"
   ]
  },
  {
   "cell_type": "markdown",
   "metadata": {},
   "source": [
    "## Dictionary <br>\n",
    "<p>A collection of data with 'key:value' pairs. Dictionaries are ordered as of Python 3.6</p>"
   ]
  },
  {
   "cell_type": "markdown",
   "metadata": {},
   "source": [
    "##### Declaring (key, value)"
   ]
  },
  {
   "cell_type": "code",
   "execution_count": 4,
   "metadata": {},
   "outputs": [],
   "source": [
    "#key always need to be unique\n",
    "# can you use integers (numbers) or strings as keys\n",
    "\n",
    "d_1 = {} #<-- empty dictionary\n",
    "\n",
    "#or\n",
    "\n",
    "d_2 = dict()\n",
    "\n",
    "#or\n",
    "# non-empty dictionary\n",
    "d_3 = {\n",
    "     \"Tom\": \"255 Main Street\",\n",
    "     \"Jerry\": \"256 Main Streey\",\n",
    "     0: \"This is zero\"\n",
    " }"
   ]
  },
  {
   "cell_type": "markdown",
   "metadata": {},
   "source": [
    "##### Accessing Values"
   ]
  },
  {
   "cell_type": "code",
   "execution_count": 5,
   "metadata": {},
   "outputs": [
    {
     "name": "stdout",
     "output_type": "stream",
     "text": [
      "255 Main Street\n",
      "256 Main Streey\n",
      "This is zero\n"
     ]
    }
   ],
   "source": [
    "#dict[key] this will give back the value\n",
    "print(d_3[\"Tom\"])\n",
    "print(d_3[\"Jerry\"])\n",
    "print(d_3[0])"
   ]
  },
  {
   "cell_type": "code",
   "execution_count": 6,
   "metadata": {},
   "outputs": [
    {
     "name": "stdout",
     "output_type": "stream",
     "text": [
      "Dragon Statue\n"
     ]
    }
   ],
   "source": [
    "# example of non-unique keys\n",
    "d_4 = {\n",
    "    \"name\":\"Mega Man\",\n",
    "    \"name\":\"Dragon Statue\",\n",
    "}\n",
    "\n",
    "print(d_4[\"name\"])"
   ]
  },
  {
   "cell_type": "markdown",
   "metadata": {},
   "source": [
    "## In-Class Exercise #1 - Print a formatted statement from the dictionary below <br>\n",
    "<p>The output should be '2018 Chevrolet Silverado'</p>"
   ]
  },
  {
   "cell_type": "code",
   "execution_count": 36,
   "metadata": {},
   "outputs": [
    {
     "name": "stdout",
     "output_type": "stream",
     "text": [
      "2018 Chevrolet Silverado\n",
      "2018 Chevrolet Silverado\n"
     ]
    }
   ],
   "source": [
    "# use the dict below\n",
    "truck = {\n",
    "    \"year\": 2018,\n",
    "    'make': 'Chevrolet',\n",
    "    'model': 'Silverado'\n",
    "}\n",
    "print(truck[\"year\"], truck[\"make\"], truck[\"model\"])\n",
    "print(f'{truck[\"year\"]} {truck[\"make\"]} {truck[\"model\"]}')"
   ]
  },
  {
   "cell_type": "code",
   "execution_count": null,
   "metadata": {},
   "outputs": [],
   "source": []
  },
  {
   "cell_type": "code",
   "execution_count": null,
   "metadata": {},
   "outputs": [],
   "source": []
  },
  {
   "cell_type": "markdown",
   "metadata": {},
   "source": [
    "##### Adding New Pairs"
   ]
  },
  {
   "cell_type": "code",
   "execution_count": 42,
   "metadata": {},
   "outputs": [
    {
     "name": "stdout",
     "output_type": "stream",
     "text": [
      "{'Tom': '255 Main Street', 'Jerry': '256 Main Streey', 0: 'This is zero', 'Spike': '257 Main Street', 'Tike': '257 Main Street'}\n",
      "{}\n",
      "{'Beverage': 'water'}\n"
     ]
    }
   ],
   "source": [
    "#dict[key] = value\n",
    "\n",
    "d_3 = {\n",
    "     \"Tom\": \"255 Main Street\",\n",
    "     \"Jerry\": \"256 Main Streey\",\n",
    "     0: \"This is zero\"\n",
    " }\n",
    "d_3[\"Spike\"] = \"257 Main Street\"\n",
    "d_3[\"Tike\"] = \"257 Main Street\"\n",
    "\n",
    "print(d_3)\n",
    "\n",
    "d_4= {}\n",
    "print(d_4)\n",
    "\n",
    "d_4[\"Beverage\"] = \"water\"\n",
    "print(d_4)\n"
   ]
  },
  {
   "cell_type": "markdown",
   "metadata": {},
   "source": [
    "##### Modifying Values"
   ]
  },
  {
   "cell_type": "code",
   "execution_count": 49,
   "metadata": {},
   "outputs": [
    {
     "name": "stdout",
     "output_type": "stream",
     "text": [
      "{'Beverage': 'coffee', 'beverage': 'coffee'}\n",
      "{'Beverage': 'coffee', 'beverage': 'coffee'}\n",
      "{'Beverage': 'coffee', 'beverage': 'coffee', 'beverage2': 'belle vie'}\n"
     ]
    }
   ],
   "source": [
    "#dict[key] = \"new value\" if key already exists in dictinary\n",
    "print(d_4)\n",
    "d_4['beverage'] = 'coffee'\n",
    "print(d_4)\n",
    "\n",
    "drink = \"belle vie\"\n",
    "\n",
    "if 'beverage2' not in d_4:\n",
    "    d_4['beverage2']= drink\n",
    "else:\n",
    "    d_4['beverage2']= 'topo chico'\n",
    "print(d_4)"
   ]
  },
  {
   "cell_type": "code",
   "execution_count": null,
   "metadata": {},
   "outputs": [],
   "source": []
  },
  {
   "cell_type": "markdown",
   "metadata": {},
   "source": [
    "##### Removing Key, Value Pairs"
   ]
  },
  {
   "cell_type": "code",
   "execution_count": 53,
   "metadata": {},
   "outputs": [
    {
     "name": "stdout",
     "output_type": "stream",
     "text": [
      "{'Tom': '255 Main Street', 'Jerry': '256 Main Streey', 'Spike': '257 Main Street', 'Tike': '257 Main Street'}\n",
      "{'Tom': '255 Main Street', 'Jerry': '256 Main Streey', 'Spike': '257 Main Street', 'Tike': '257 Main Street'}\n"
     ]
    }
   ],
   "source": [
    "# del dict[key]\n",
    "# del(my_list[0]) or del dict[key] or del my_list[0]\n",
    "\n",
    "print(d_3)\n",
    "\n",
    "#del d_3[0] <-- already deleted and will not work if trying to run again\n",
    "print(d_3)"
   ]
  },
  {
   "cell_type": "markdown",
   "metadata": {},
   "source": [
    "##### Looping a Dictionary"
   ]
  },
  {
   "cell_type": "code",
   "execution_count": 54,
   "metadata": {},
   "outputs": [
    {
     "name": "stdout",
     "output_type": "stream",
     "text": [
      "Tom lives this address: 255 Main Street\n",
      "Jerry lives this address: 256 Main Streey\n",
      "Spike lives this address: 257 Main Street\n",
      "Tike lives this address: 257 Main Street\n"
     ]
    }
   ],
   "source": [
    "#dict.items()\n",
    "d_3 = {'Tom': '255 Main Street', 'Jerry': '256 Main Streey', 'Spike': '257 Main Street', 'Tike': '257 Main Street'}\n",
    "for k, v in d_3.items():\n",
    "    print(f'{k} lives this address: {v}')"
   ]
  },
  {
   "cell_type": "code",
   "execution_count": 58,
   "metadata": {},
   "outputs": [
    {
     "name": "stdout",
     "output_type": "stream",
     "text": [
      "0 Desiree\n",
      "1 Chuck\n",
      "2 hyun-Tae\n",
      "3 ALex\n",
      "4 Abdel\n",
      "\n",
      "\n",
      "0 Desiree\n",
      "1 Chuck\n",
      "2 hyun-Tae\n",
      "3 ALex\n",
      "4 Abdel\n",
      "{0: 'Desiree', 1: 'Chuck', 2: 'hyun-Tae', 3: 'ALex', 4: 'Abdel'}\n"
     ]
    }
   ],
   "source": [
    "#enumerating a list and adding it to a dictionary\n",
    "my_list = [\"Desiree\", \"Chuck\", \"hyun-Tae\", \"ALex\", \"Abdel\"]\n",
    "names_dict = {}\n",
    "\n",
    "for i, name in enumerate(my_list):\n",
    "    print(i, name)\n",
    "    names_dict[i]= name\n",
    "print(\"\\n\")\n",
    "for k, v in names_dict.items():\n",
    "    print(k, v)\n",
    "print(names_dict)"
   ]
  },
  {
   "cell_type": "markdown",
   "metadata": {},
   "source": [
    "##### Looping Only Keys"
   ]
  },
  {
   "cell_type": "code",
   "execution_count": 62,
   "metadata": {},
   "outputs": [
    {
     "name": "stdout",
     "output_type": "stream",
     "text": [
      "Tom\n",
      "Jerry\n",
      "Spike\n",
      "Tike\n",
      "\n",
      "\n",
      "Tom\n",
      "Jerry\n",
      "Spike\n",
      "Tike\n"
     ]
    }
   ],
   "source": [
    "#dict.keys()\n",
    "d_3 = {'Tom': '255 Main Street', 'Jerry': '256 Main Streey', 'Spike': '257 Main Street', 'Tike': '257 Main Street'}\n",
    "for key in d_3:\n",
    "    print(key)\n",
    "    \n",
    "print(\"\\n\")\n",
    "\n",
    "for name in d_3.keys():\n",
    "    print(name)"
   ]
  },
  {
   "cell_type": "markdown",
   "metadata": {},
   "source": [
    "##### Looping Only Values"
   ]
  },
  {
   "cell_type": "code",
   "execution_count": 71,
   "metadata": {
    "scrolled": true
   },
   "outputs": [
    {
     "name": "stdout",
     "output_type": "stream",
     "text": [
      "Tom Lives here\n",
      "257 Main Street 60618\n",
      "257 Main Street 60618 60618\n",
      "255 Main Street\n"
     ]
    }
   ],
   "source": [
    "#dict.value()\n",
    "d_3 = {'Tom': '254 Main Street', 'Spike': '257 Main Street', 'Tike': '257 Main Street',  'Jerry': '255 Main Street'}\n",
    "\n",
    "#for address in d_3.values():\n",
    " #   print(address)\n",
    "    \n",
    "for address in d_3.values():\n",
    "    if address == \"254 Main Street\":\n",
    "        print(\"Tom Lives here\")\n",
    "    elif address == \"257 Main Street\":\n",
    "        d_3[\"Spike\"] = d_3[\"Spike\"] + ' 60618'\n",
    "        #\"257 Main Street \" + \"60618\"\n",
    "        #address = \"257 Main Street\" + \" 60618\"\n",
    "        print(d_3[\"Spike\"])\n",
    "    else:\n",
    "        print(address)"
   ]
  },
  {
   "cell_type": "markdown",
   "metadata": {},
   "source": [
    "## In-Class Exercise #2 - Create a Function that Prints All Key Value Pairs within a formatted string  <br>\n",
    "<p><b>Output should be:</b><br>\n",
    "Max has blue eyes<br>\n",
    "Lilly has brown eyes<br>\n",
    "Barney has blue eyes<br>\n",
    "etc.\n",
    "</p>"
   ]
  },
  {
   "cell_type": "code",
   "execution_count": 95,
   "metadata": {},
   "outputs": [
    {
     "name": "stdout",
     "output_type": "stream",
     "text": [
      "Max\n",
      "Lilly\n",
      "Barney\n",
      "Ted\n",
      "Sasuke\n",
      "\n",
      "\n",
      "blue\n",
      "brown\n",
      "green\n",
      "purple\n",
      "sharingan\n"
     ]
    }
   ],
   "source": [
    "# use the dict below\n",
    "people = {\n",
    "    'Max' : 'blue',\n",
    "    'Lilly' : 'brown',\n",
    "    'Barney' : 'green',\n",
    "    'Ted' : 'purple',\n",
    "    'Sasuke' : 'sharingan'    \n",
    "}\n",
    "\n",
    "for person in people.keys():\n",
    "    print(person)\n",
    "print(\"\\n\")\n",
    "for color in people.values():\n",
    "    print(color)"
   ]
  },
  {
   "cell_type": "code",
   "execution_count": 98,
   "metadata": {},
   "outputs": [
    {
     "name": "stdout",
     "output_type": "stream",
     "text": [
      "Max has blue eyes.\n",
      "Lilly has brown eyes.\n",
      "Barney has green eyes.\n",
      "Ted has purple eyes.\n",
      "Sasuke has sharingan eyes.\n"
     ]
    }
   ],
   "source": [
    "for k, v in people.items():\n",
    "    print(f\"{k} has {v} eyes.\")\n"
   ]
  },
  {
   "cell_type": "code",
   "execution_count": 84,
   "metadata": {},
   "outputs": [
    {
     "name": "stdout",
     "output_type": "stream",
     "text": [
      "Max has blue eyes\n",
      "Lilly has brown eyes\n",
      "Barney has green eyes\n",
      "Ted has purple eyes\n",
      "Sasuke has sharingan eyes\n"
     ]
    }
   ],
   "source": [
    "def eyeColors(people_dict):\n",
    "    for name, color in people.items():\n",
    "        print(f'{name} has {color} eyes')\n",
    "    \n",
    "eyeColors(people)"
   ]
  },
  {
   "cell_type": "code",
   "execution_count": null,
   "metadata": {},
   "outputs": [],
   "source": []
  },
  {
   "cell_type": "code",
   "execution_count": null,
   "metadata": {},
   "outputs": [],
   "source": []
  },
  {
   "cell_type": "markdown",
   "metadata": {},
   "source": [
    "##### sorted()"
   ]
  },
  {
   "cell_type": "code",
   "execution_count": 102,
   "metadata": {},
   "outputs": [
    {
     "name": "stdout",
     "output_type": "stream",
     "text": [
      "[('Barney', 'green'), ('Lilly', 'brown'), ('Max', 'blue'), ('Sasuke', 'sharingan'), ('Ted', 'purple')]\n",
      "green\n",
      "[['Barney', 'red'], ['Lily', 'brown'], ['Max', 'blue'], ['Sasuke', 'sharingan'], ['Ted', 'purple']]\n"
     ]
    }
   ],
   "source": [
    "#if we wrap dictionary with sorted() ot returns a list of tuples sorted by a key\n",
    "people = {\n",
    "    'Max' : 'blue',\n",
    "    'Lilly' : 'brown',\n",
    "    'Barney' : 'green',\n",
    "    'Ted' : 'purple',\n",
    "    'Sasuke' : 'sharingan'    \n",
    "}\n",
    "\n",
    "# print(\"Values\", sorted(people.values()))\n",
    "# print(\"Keys\", sorted(people.keys()))\n",
    "# print(\"key, value pairs\", sorted(people.items())) #not case sensitive\n",
    "\n",
    "sorted_items = sorted(people.items())\n",
    "print(sorted_items)\n",
    "\n",
    "#indexing into a list with iterables inside of it\n",
    "print(sorted_items[0][1])\n",
    "\n",
    "\n",
    "new_list = [['Barney', 'Green'],['Lily', 'brown'],['Max', 'blue'],['Sasuke', 'sharingan'],['Ted', 'purple']]\n",
    "new_list[0][1] = \"red\"\n",
    "print(new_list)"
   ]
  },
  {
   "cell_type": "markdown",
   "metadata": {},
   "source": [
    "##### List with Dictionaries"
   ]
  },
  {
   "cell_type": "code",
   "execution_count": 110,
   "metadata": {},
   "outputs": [
    {
     "name": "stdout",
     "output_type": "stream",
     "text": [
      "Gaara\n",
      "Naruto\n",
      "{'Leaf_village': 'Naruto', 'leaf_village2': 'Kakashi'}\n",
      "{'Leaf_village': 'Naruto', 'leaf_village2': 'Kakashi'}\n"
     ]
    }
   ],
   "source": [
    "shinobi = [\"Shikamura\", \"Gaara\", \"OctoPops\", {\"Leaf_village\": \"Naruto\", \"leaf_village2\": \"Kakashi\"}]\n",
    "\n",
    "print(shinobi[1])\n",
    "print(shinobi[3]['Leaf_village'])\n",
    "print(shinobi[3])\n",
    "print(shinobi[-1])\n",
    "\n"
   ]
  },
  {
   "cell_type": "code",
   "execution_count": 116,
   "metadata": {},
   "outputs": [
    {
     "name": "stdout",
     "output_type": "stream",
     "text": [
      "['dave', 'sandy', 'tony', {'random_person1': 'Barb', 'random_person2': 'bart'}, 'Tom']\n",
      "Barb\n",
      "{'random_person1': 'Barb', 'random_person2': 'bart'}\n",
      "bart\n"
     ]
    }
   ],
   "source": [
    "names = [\"dave\", \"sandy\", \"tony\", {\"random_person1\":'Barb', \"random_person2\": \"bart\"}, \"Tom\"]\n",
    "print(names)\n",
    "print(names[3]['random_person1'])\n",
    "\n",
    "random_people = names[3]\n",
    "print(random_people)\n",
    "print(random_people[\"random_person2\"])"
   ]
  },
  {
   "cell_type": "markdown",
   "metadata": {},
   "source": [
    "##### Dictionaries with Lists"
   ]
  },
  {
   "cell_type": "code",
   "execution_count": 123,
   "metadata": {},
   "outputs": [
    {
     "name": "stdout",
     "output_type": "stream",
     "text": [
      "1\n",
      "90\n"
     ]
    }
   ],
   "source": [
    "random_data = {\n",
    "    \"list_1\": [54, 67, 90],\n",
    "    \"names\": [\"john\", \"laura\" , \"bulbasaur\"],\n",
    "    1: [1,1,1,1]\n",
    "}\n",
    "print(random_data[1][1])\n",
    "print(random_data[\"list_1\"][2])"
   ]
  },
  {
   "cell_type": "markdown",
   "metadata": {},
   "source": [
    "##### Dictionaries with Dictionaries"
   ]
  },
  {
   "cell_type": "code",
   "execution_count": 125,
   "metadata": {
    "scrolled": true
   },
   "outputs": [
    {
     "name": "stdout",
     "output_type": "stream",
     "text": [
      "\n",
      "Here are all our favorite foods!!! YAY!!\n",
      "\n",
      "Ryan's favorite foods are: \n",
      "Tacos\n",
      "Tortas\n",
      "Burritos\n",
      "Pie\n",
      "Brownies\n",
      "Chocolate Chip Cookies\n",
      "\n",
      "Alex's favorite foods are: \n",
      "Pupusas\n",
      "Tacos\n",
      "Fajitas\n",
      "Pastries\n",
      "Ice Cream\n",
      "Canollis\n",
      "Cheesecake\n",
      "Chantilly Cupcakes\n",
      "Cobbler\n",
      "Pie\n",
      "\n",
      "Ethan's favorite foods are: \n",
      "KGLW\n",
      "Uncle Spudd\n",
      "Your moms house\n",
      "MF DOOM\n",
      "Kendrick\n",
      "Andrae 3000\n",
      "\n",
      "Enoch's favorite foods are: \n",
      "Sushi\n",
      "Tempura\n",
      "Onigiri\n",
      "Cheesecake\n",
      "Applie Pie\n",
      "Yuzu Creme Brulee\n",
      "\n",
      "Htae's favorite foods are: \n",
      "Miso\n",
      "Shoyu\n",
      "Shin\n",
      "Dr.Pepper\n",
      "Water\n",
      "Boba tea\n",
      "\n",
      "Dez's favorite foods are: \n",
      "Sushi\n",
      "Ramen\n",
      "Pho\n",
      "Curry\n",
      "Sidecar\n",
      "Sk's\n",
      "Doughnuttery\n",
      "\n",
      "Dharti's favorite foods are: \n",
      "Paneer\n",
      "Rajma\n",
      "Naan\n",
      "Jalabi\n",
      "Mohanthal\n",
      "icecream\n",
      "\n",
      "Lyle's favorite foods are: \n",
      "airmax\n",
      "jordan\n",
      "cortez\n",
      "stansmiths\n",
      "promodel\n",
      "nmd\n",
      "\n",
      "Daniel's favorite foods are: \n",
      "garri\n",
      "fufu\n",
      "egusi\n",
      "rice\n",
      "beans\n",
      "eba\n",
      "\n",
      "Chuck's favorite foods are: \n",
      "Cheese_Burger\n",
      "Fries\n",
      "Coke\n",
      "Cheese_Cake\n",
      "Milk_Shake\n",
      "Cake\n",
      "\n",
      "Ben's favorite foods are: \n",
      "Tika Masala\n",
      "Naan\n",
      "Chapati\n",
      "Chicken Curry\n",
      "Fish Curry\n",
      "Cheesecake\n",
      "Empanadas\n",
      "Churros\n",
      "Ice Cream\n",
      "Mangonada\n",
      "\n",
      "Ewa's favorite foods are: \n",
      "Pizza\n",
      "Pasta\n",
      "Dessert\n",
      "Tacos\n",
      "Burritos\n",
      "Dessert\n",
      "\n",
      "Salim's favorite foods are: \n",
      "lent soup , kebaba , Gyro \n",
      "Baklava, basbousa ,maamoul\n"
     ]
    }
   ],
   "source": [
    "food_dict = {\n",
    "    \"Ryan\": {\n",
    "        \"Mexican\": [\"Tacos\", \"Tortas\", \"Burritos\"],\n",
    "        \"Desserts\": ['Pie', \"Brownies\", \"Chocolate Chip Cookies\"]\n",
    "    },\n",
    "    \"Alex\": {\n",
    "        \"Hispanic\": ['Pupusas', 'Tacos', 'Fajitas'],\n",
    "        \"Sweets\": ['Pastries', 'Ice Cream', 'Canollis'],\n",
    "        \"More Sweets\" : ['Cheesecake', 'Chantilly Cupcakes', 'Cobbler', 'Pie']\n",
    "    },\n",
    "     \"Ethan\": {\n",
    "        \"Rock\": ['KGLW', 'Uncle Spudd', 'Your moms house'], \n",
    "        'Rap': ['MF DOOM', 'Kendrick', 'Andrae 3000']\n",
    "    },\n",
    "    \"Enoch\": {\n",
    "        \"Japanese\":[\"Sushi\", \"Tempura\", \"Onigiri\"],\n",
    "        \"Desserts\":[\"Cheesecake\", \"Applie Pie\", \"Yuzu Creme Brulee\"]\n",
    "    },\n",
    "    \"Htae\": {\n",
    "        \"Ramen\": [\"Miso\", \"Shoyu\", \"Shin\"],\n",
    "        \"Drinks\": [\"Dr.Pepper\", \"Water\", \"Boba tea\"]\n",
    "    },\n",
    "    \"Dez\": {\n",
    "        \"Asian\":[\"Sushi\", \"Ramen\", \"Pho\", \"Curry\"],\n",
    "        \"Doughnt_shops\": [\"Sidecar\",\"Sk's\", \"Doughnuttery\"]\n",
    "    },\n",
    "    \"Dharti\": {\n",
    "        \"Indian\": [\"Paneer\",\"Rajma\",\"Naan\"],\n",
    "        \"Sweet\": [\"Jalabi\",\"Mohanthal\",\"icecream\"]\n",
    "    },\n",
    "      \"Lyle\": {\n",
    "        'nike': ['airmax', 'jordan', 'cortez'],\n",
    "        'adidas': ['stansmiths', 'promodel', 'nmd']\n",
    "    },\n",
    "    'Daniel' :{\n",
    "    'Afri':['garri', 'fufu', 'egusi'],\n",
    "    'easyfood':['rice', 'beans', 'eba']\n",
    "    },\n",
    "    \"Chuck\": {\n",
    "       \"American\" : ['Cheese_Burger', 'Fries', 'Coke'],\n",
    "       \"Desserts\" : ['Cheese_Cake', 'Milk_Shake', 'Cake'],\n",
    "    },\n",
    "    \"Ben\": {\n",
    "    \"Indian\": [\"Tika Masala\", \"Naan\", \"Chapati\", \"Chicken Curry\", \"Fish Curry\",],\n",
    "    \"Desserts\": [\"Cheesecake\", \"Empanadas\", \"Churros\", \"Ice Cream\", \"Mangonada\"],\n",
    "    },\n",
    "    'Ewa': {\n",
    "    'Italian': {\n",
    "        'Pizza': ['Margherita', 'Pepperoni', 'Capricciosa'],\n",
    "        'Pasta': ['Spaghetti Bolognese', 'Carbonara', 'Pesto'],\n",
    "        'Dessert': ['Tiramisu', 'Panna Cotta', 'Cannoli']\n",
    "    },\n",
    "    \n",
    "    'Mexican': {\n",
    "        'Tacos': ['Al Pastor', 'Carnitas', 'Barbacoa'],\n",
    "        'Burritos': ['Bean and Cheese', 'Carne Asada', 'Chicken'],\n",
    "        'Dessert': ['Churros', 'Flan', 'Sopapillas']\n",
    "    }},\n",
    "     \"Salim\" : {\n",
    "        \"turkish\" :[\"lent soup , kebaba , Gyro \"],\n",
    "        \"Dessert \" :[\"Baklava, basbousa ,maamoul\"]\n",
    "    }\n",
    "    \n",
    "    \n",
    "}\n",
    "\n",
    "print(\"\\nHere are all our favorite foods!!! YAY!!\")\n",
    "for name in food_dict.keys():\n",
    "    print(f\"\\n{name}'s favorite foods are: \")\n",
    "    for food_type in food_dict[name].keys():\n",
    "        for food in food_dict[name][food_type]:\n",
    "            print(food)"
   ]
  },
  {
   "cell_type": "code",
   "execution_count": null,
   "metadata": {},
   "outputs": [],
   "source": []
  },
  {
   "cell_type": "code",
   "execution_count": null,
   "metadata": {},
   "outputs": [],
   "source": []
  },
  {
   "cell_type": "code",
   "execution_count": null,
   "metadata": {},
   "outputs": [],
   "source": []
  },
  {
   "cell_type": "code",
   "execution_count": null,
   "metadata": {},
   "outputs": [],
   "source": []
  },
  {
   "cell_type": "markdown",
   "metadata": {},
   "source": [
    "## Dictionaries vs. Lists (over time) Example of RUNTIME\n",
    "### When inputting values in a Dictionary vs List"
   ]
  },
  {
   "cell_type": "code",
   "execution_count": 126,
   "metadata": {},
   "outputs": [],
   "source": [
    "import time\n",
    "#generate dictionary\n",
    "d={}\n",
    "for i in range(10000000):\n",
    "    d[i] = \"value \" + str(i)\n",
    "    \n",
    "#generate a list\n",
    "\n",
    "big_list = [x for x in range(10000000)]"
   ]
  },
  {
   "cell_type": "code",
   "execution_count": 127,
   "metadata": {},
   "outputs": [
    {
     "name": "stdout",
     "output_type": "stream",
     "text": [
      "value 9999999\n",
      "elapsed time for dictionary: 0.0\n",
      "9999999\n",
      "Elapsed time for list: 0.3979315757751465\n"
     ]
    }
   ],
   "source": [
    "#track time for the dictinary\n",
    "start_time = time.time()\n",
    "print(d[9999999])\n",
    "\n",
    "end_time = time.time() - start_time\n",
    "print(f\"elapsed time for dictionary: {end_time}\")\n",
    "\n",
    "#tracking time for the list\n",
    "\n",
    "start_time = time.time()\n",
    "for i in range(len(big_list)):\n",
    "    if i == 9999999:\n",
    "        print(i)\n",
    "        \n",
    "end_time = time.time() - start_time\n",
    "print(f\"Elapsed time for list: {end_time}\")"
   ]
  },
  {
   "cell_type": "markdown",
   "metadata": {},
   "source": [
    "## Exercise #3 - Write a Function that asks someone's name and address, and then stores that into a dictionary, and continues to do so until they choose to 'quit'. Once they quit, the program should print all names and addresses. <br>\n",
    "<p>\n",
    "<b>Proper steps:</b><br>\n",
    "step 1: write a function that takes in information and stores it in a dictionary<br>\n",
    "step 2: define an empty dictionary to work with<br>\n",
    "step 3: create our loop, which asks the user for information until they quit<br>\n",
    "step 4: ask for the information, and store it into variables<br>\n",
    "step 5: check if the user types quit<br>\n",
    "step 5a: print out all information<br>\n",
    "step 5b: break out of the loop<br>\n",
    "step 6: if they didn't quit, add the information to the dictionary<br>\n",
    "step 7: invoke the function by calling it\n",
    "</p>"
   ]
  },
  {
   "cell_type": "code",
   "execution_count": 1,
   "metadata": {},
   "outputs": [
    {
     "name": "stdout",
     "output_type": "stream",
     "text": [
      "Enter a name or say 'quit' to quit: 123\n",
      "Enter an address or say 'quit' to quit123\n",
      "Enter a name or say 'quit' to quit: 123\n",
      "Enter an address or say 'quit' to quitquit\n",
      " The addresss for 123, is 123. Go visit them! But call first cause that is rude.\n"
     ]
    }
   ],
   "source": [
    "# step 2:\n",
    "info = {}\n",
    "\n",
    "#step3\n",
    "while True:\n",
    "    #step 4\n",
    "    name = input(\"Enter a name or say 'quit' to quit: \")\n",
    "    if name.lower().strip() != 'quit':\n",
    "        address = input(\"Enter an address or say 'quit' to quit\")\n",
    "        \n",
    "    #step 5\n",
    "    if name.lower().strip() == 'quit' or address.lower().strip() == 'quit':\n",
    "        #step 5a\n",
    "        for key, value in info.items():\n",
    "            print(f\" The addresss for {key}, is {value}. Go visit them! But call first cause that is rude.\")\n",
    "        break\n",
    "        \n",
    "    info[name] = address"
   ]
  },
  {
   "cell_type": "markdown",
   "metadata": {},
   "source": [
    "## Set <br>\n",
    "<p>A Set is an unordered collection data type that is iterable (loop), mutable, and has no duplicate elements.<br>Major advantage is that it is highly optimized in checking if something is in the set, as opposed to checking if something is in a list.</p>"
   ]
  },
  {
   "cell_type": "markdown",
   "metadata": {},
   "source": [
    "##### Declaring"
   ]
  },
  {
   "cell_type": "code",
   "execution_count": 10,
   "metadata": {
    "scrolled": false
   },
   "outputs": [
    {
     "name": "stdout",
     "output_type": "stream",
     "text": [
      "{8, 1, 4}\n",
      "{1, 2, 3, 4, 9}\n",
      "[1, 2, 3, 4, 9]\n"
     ]
    }
   ],
   "source": [
    "# set() or {}\n",
    "# {no order{3,2,1} might output as {2,3,1}}\n",
    "nums = {4,1,8,4}\n",
    "\n",
    "print(nums)\n",
    "\n",
    "\n",
    "my_list = [1,1,1,1,2,2,2,2,3,3,3,3,3,4,4,4,9,9,9,9]\n",
    "my_set = set(my_list)\n",
    "print(my_set)\n",
    "\n",
    "my_list = list(my_set)\n",
    "print(my_list)\n",
    "\n",
    "# we can't index because set are unordered\n",
    "my_set[0]"
   ]
  },
  {
   "cell_type": "code",
   "execution_count": null,
   "metadata": {
    "scrolled": true
   },
   "outputs": [],
   "source": []
  },
  {
   "cell_type": "code",
   "execution_count": null,
   "metadata": {},
   "outputs": [],
   "source": []
  },
  {
   "cell_type": "markdown",
   "metadata": {},
   "source": [
    "##### .add()"
   ]
  },
  {
   "cell_type": "code",
   "execution_count": 14,
   "metadata": {},
   "outputs": [
    {
     "name": "stdout",
     "output_type": "stream",
     "text": [
      "{2, 4, 5, 7, 9}\n",
      "{2, 4, 5, 22, 7, 9}\n",
      "{2, 'Hello', 4, 5, 22, 7, 9}\n",
      "{2, 'Hello', 4, 5, 22, 7, 9}\n"
     ]
    }
   ],
   "source": [
    "#set.add\n",
    "\n",
    "my_set = {2,5,4,7,9}\n",
    "print(my_set)\n",
    "my_set.add(22)\n",
    "print(my_set)\n",
    "\n",
    "my_set.add('Hello')\n",
    "print(my_set)\n",
    "\n",
    "my_set.add(2)\n",
    "print(my_set)"
   ]
  },
  {
   "cell_type": "markdown",
   "metadata": {},
   "source": [
    "##### .remove()"
   ]
  },
  {
   "cell_type": "code",
   "execution_count": 16,
   "metadata": {},
   "outputs": [
    {
     "name": "stdout",
     "output_type": "stream",
     "text": [
      "{4, 5, 7, 9}\n",
      "{4, 5, 7}\n"
     ]
    }
   ],
   "source": [
    "#my_set.remove(value)\n",
    "\n",
    "my_set = {2,5,4,7,9}\n",
    "my_set.remove(2)\n",
    "print(my_set)\n",
    "\n",
    "my_set.remove(9)\n",
    "print(my_set)"
   ]
  },
  {
   "cell_type": "markdown",
   "metadata": {},
   "source": [
    "##### .union() "
   ]
  },
  {
   "cell_type": "code",
   "execution_count": 20,
   "metadata": {},
   "outputs": [
    {
     "name": "stdout",
     "output_type": "stream",
     "text": [
      "{1, 2, 3, 4, 5, 6}\n",
      "{1, 2, 3, 4, 5, 6}\n"
     ]
    }
   ],
   "source": [
    "#union will combine two sets\n",
    "# can also | in place of .union()\n",
    "#my_set.union(my_set2)\n",
    "\n",
    "s1 = {1,2,3,4}\n",
    "s2 = {3,4,5,6}\n",
    "\n",
    "s3 = s1.union(s2)\n",
    "print(s3)\n",
    "\n",
    "# or \n",
    "\n",
    "s4 = s2 | s1\n",
    "print(s4)"
   ]
  },
  {
   "cell_type": "markdown",
   "metadata": {},
   "source": [
    "##### .intersection()"
   ]
  },
  {
   "cell_type": "code",
   "execution_count": 22,
   "metadata": {},
   "outputs": [
    {
     "name": "stdout",
     "output_type": "stream",
     "text": [
      "{3, 4}\n",
      "{3, 4}\n"
     ]
    }
   ],
   "source": [
    "# return an intersection of two sets, can also use &\n",
    "# only return the similar elements of both sets\n",
    "\n",
    "s1 = {1,2,3,4}\n",
    "s2 = {3,4,5,6}\n",
    "\n",
    "s3 = s2.intersection(s1)\n",
    "\n",
    "print(s3)\n",
    "\n",
    "# or \n",
    "s4 = s2 & s1\n",
    "\n",
    "print(s4)\n"
   ]
  },
  {
   "cell_type": "markdown",
   "metadata": {},
   "source": [
    "##### .difference()"
   ]
  },
  {
   "cell_type": "code",
   "execution_count": 25,
   "metadata": {},
   "outputs": [
    {
     "name": "stdout",
     "output_type": "stream",
     "text": [
      "{1, 2}\n",
      "{5, 6}\n"
     ]
    }
   ],
   "source": [
    "# returns a set containing the elements of the invoking set that not in the second set\n",
    "# can also use '-'\n",
    "# order matters\n",
    "\n",
    "s1 = {1,2,3,4}\n",
    "s2 = {3,4,5,6}\n",
    "\n",
    "s7 = s1- s2\n",
    "\n",
    "print(s7)\n",
    "\n",
    "#or \n",
    "\n",
    "s8 = s2.difference(s1)\n",
    "print(s8)\n"
   ]
  },
  {
   "cell_type": "markdown",
   "metadata": {},
   "source": [
    "##### .clear()"
   ]
  },
  {
   "cell_type": "code",
   "execution_count": 27,
   "metadata": {},
   "outputs": [
    {
     "name": "stdout",
     "output_type": "stream",
     "text": [
      "{3, 4, 5, 24, 11, 12}\n",
      "set()\n"
     ]
    }
   ],
   "source": [
    "#empties whole set\n",
    "#set.clear\n",
    "\n",
    "another_set = {3 ,4 ,5, 12, 11, 24}\n",
    "print(another_set)\n",
    "\n",
    "another_set.clear()\n",
    "print(another_set)"
   ]
  },
  {
   "cell_type": "code",
   "execution_count": null,
   "metadata": {},
   "outputs": [],
   "source": []
  },
  {
   "cell_type": "markdown",
   "metadata": {},
   "source": [
    "##### Frozenset <br>\n",
    "<p>Frozen sets are immutable objects that only support methods and operators that produce a result without affecting the frozen set or sets to which they are applied.</p><br><b>Unique & Immutable</b>"
   ]
  },
  {
   "cell_type": "code",
   "execution_count": 29,
   "metadata": {},
   "outputs": [
    {
     "name": "stdout",
     "output_type": "stream",
     "text": [
      "{2, 3, 'my dog is neat', 4, 5, 7, 'hello'}\n",
      "frozenset({2, 3, 'my dog is neat', 4, 5, 7, 'hello'})\n"
     ]
    }
   ],
   "source": [
    "#frozenset()\n",
    "\n",
    "my_set = {2, 3, 4, 'hello', 7, 'my dog is neat', 5}\n",
    "print(my_set)\n",
    "\n",
    "frozen_set = frozenset(my_set)\n",
    "print(frozen_set) "
   ]
  },
  {
   "cell_type": "markdown",
   "metadata": {},
   "source": [
    "# Exercises"
   ]
  },
  {
   "cell_type": "markdown",
   "metadata": {},
   "source": [
    "### 1) Build a Shopping Cart <br>\n",
    "<p><b>You can use either lists or dictionaries. The program should have the following capabilities:</b><br><br>\n",
    "1) Takes in input <br>\n",
    "2) Stores user input into a dictionary or list <br>\n",
    "3) The User can add or delete items <br>\n",
    "4) The User can see current shopping list <br>\n",
    "5) The program Loops until user 'quits' <br>\n",
    "6) Upon quiting the program, print out all items in the user's list <br>\n",
    "</p>"
   ]
  },
  {
   "cell_type": "code",
   "execution_count": null,
   "metadata": {},
   "outputs": [],
   "source": [
    "from IPython.display import clear_output\n",
    "\n",
    "# Ask the user four bits of input: Do you want to : Show/Add/Delete or Quit?\n"
   ]
  },
  {
   "cell_type": "markdown",
   "metadata": {},
   "source": [
    "### 2) Set Practice"
   ]
  },
  {
   "cell_type": "markdown",
   "metadata": {},
   "source": [
    "<p><b>Remove all duplicates from the following list</b></p>"
   ]
  },
  {
   "cell_type": "code",
   "execution_count": null,
   "metadata": {},
   "outputs": [],
   "source": [
    "nums_list = [1, 1, 1, 2, 2, 3, 5, 6, 4, 12, 11, 12, 12, 14, 16, 16, 16, 1, 1, 1, 2, 2]"
   ]
  },
  {
   "cell_type": "markdown",
   "metadata": {},
   "source": [
    "<p><b>Out put the intersection of the following the following sets.</b></p>"
   ]
  },
  {
   "cell_type": "code",
   "execution_count": null,
   "metadata": {},
   "outputs": [],
   "source": [
    "set1 = {20, 24, 26, 27}\n",
    "set2 = {26, 35, 63, 27}"
   ]
  },
  {
   "cell_type": "markdown",
   "metadata": {},
   "source": [
    "<p><b>Output the difference between the following sets</b></p>"
   ]
  },
  {
   "cell_type": "code",
   "execution_count": null,
   "metadata": {},
   "outputs": [],
   "source": [
    "set3 = {100, 65, 89, 200}\n",
    "set4 = {65, 103, 54, 200}"
   ]
  }
 ],
 "metadata": {
  "kernelspec": {
   "display_name": "Python 3 (ipykernel)",
   "language": "python",
   "name": "python3"
  },
  "language_info": {
   "codemirror_mode": {
    "name": "ipython",
    "version": 3
   },
   "file_extension": ".py",
   "mimetype": "text/x-python",
   "name": "python",
   "nbconvert_exporter": "python",
   "pygments_lexer": "ipython3",
   "version": "3.9.13"
  }
 },
 "nbformat": 4,
 "nbformat_minor": 2
}
